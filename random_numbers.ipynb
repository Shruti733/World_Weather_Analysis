{
 "cells": [
  {
   "cell_type": "code",
   "execution_count": 1,
   "id": "46557dd5",
   "metadata": {},
   "outputs": [],
   "source": [
    "# Import the random module.\n",
    "import random\n",
    "import numpy as np"
   ]
  },
  {
   "cell_type": "code",
   "execution_count": 2,
   "id": "10c5b881",
   "metadata": {},
   "outputs": [
    {
     "data": {
      "text/plain": [
       "-67"
      ]
     },
     "execution_count": 2,
     "metadata": {},
     "output_type": "execute_result"
    }
   ],
   "source": [
    "random.randint(-90,90)"
   ]
  },
  {
   "cell_type": "code",
   "execution_count": 3,
   "id": "c0489c87",
   "metadata": {},
   "outputs": [
    {
     "data": {
      "text/plain": [
       "0.6858034818661336"
      ]
     },
     "execution_count": 3,
     "metadata": {},
     "output_type": "execute_result"
    }
   ],
   "source": [
    "random.random()"
   ]
  },
  {
   "cell_type": "code",
   "execution_count": 4,
   "id": "c09acb72",
   "metadata": {},
   "outputs": [
    {
     "data": {
      "text/plain": [
       "-3.572164675447243"
      ]
     },
     "execution_count": 4,
     "metadata": {},
     "output_type": "execute_result"
    }
   ],
   "source": [
    "random_number = random.randint(-90,89) + random.random()\n",
    "random_number"
   ]
  },
  {
   "cell_type": "code",
   "execution_count": 5,
   "id": "2315318f",
   "metadata": {},
   "outputs": [
    {
     "name": "stdout",
     "output_type": "stream",
     "text": [
      "[50.41199365123791, 13.21593603804472, -49.49402549574613, -1.0075958374085339, 73.7643656228038, -39.06296642885205, -34.946112321769824, -68.35195500495873, 70.97293070641742, -3.2692658874377996]\n"
     ]
    }
   ],
   "source": [
    "x = 1 \n",
    "latitudes = []\n",
    "while x < 11:\n",
    "    random_lat = random.randint(-90,89) + random.random()\n",
    "    latitudes.append(random_lat)\n",
    "    x += 1\n",
    "print(latitudes)"
   ]
  },
  {
   "cell_type": "code",
   "execution_count": 6,
   "id": "68b5c3d5",
   "metadata": {},
   "outputs": [
    {
     "name": "stdout",
     "output_type": "stream",
     "text": [
      "[-153.23039851241646, 169.05489850917698, 6.513662240961889, 156.56786513851623, 124.21809143085557, -174.29752314416606, 91.33586509873253, -101.26920872967173, -55.87878578130476, 43.56072698462662]\n"
     ]
    }
   ],
   "source": [
    "x = 1\n",
    "longitudes = []\n",
    "while x < 11:\n",
    "    random_long = random.randint(-180,179) + random.random()\n",
    "    longitudes.append(random_long)\n",
    "    x += 1\n",
    "print(longitudes)\n",
    "    "
   ]
  },
  {
   "cell_type": "code",
   "execution_count": 7,
   "id": "1f685cd6",
   "metadata": {},
   "outputs": [
    {
     "name": "stdout",
     "output_type": "stream",
     "text": [
      "[61.391214395148694, 64.58363752563626, -52.50440103285747, 20.679564347548695, -73.3627230091476, 48.28533788660167, 56.50300593137371, 81.21010538655527, -55.12017791867933, -32.311019379020024]\n"
     ]
    }
   ],
   "source": [
    "latitudes = []\n",
    "\n",
    "for x in range(1,11):\n",
    "    lat = random.randrange(-90,89,1) + random.random()\n",
    "    latitudes.append(lat)\n",
    "print(latitudes)\n"
   ]
  },
  {
   "cell_type": "code",
   "execution_count": 9,
   "id": "b86bde0e",
   "metadata": {},
   "outputs": [
    {
     "data": {
      "text/plain": [
       "array([-36.5055607 , -68.16273752,  39.7709424 , -74.81828143,\n",
       "       -30.14798557, -48.9414729 , -40.19166154,  68.84359663,\n",
       "       -52.18434797, -58.74145625, -32.1730603 ,  81.05574823,\n",
       "        72.48214548,  81.62629941, -15.58723434,  34.07869468,\n",
       "        49.64430886, -66.8182495 ,  63.15956941, -70.48260352,\n",
       "       -68.17275915, -61.35390528, -56.17935153,  31.61492118,\n",
       "        27.78383945,  40.57221397,   4.69537463,  29.73704354,\n",
       "       -61.93726986, -70.73644847,  41.71388641, -47.7321553 ,\n",
       "       -35.3737761 ,  52.46424393,  51.11063987, -47.06954686,\n",
       "        -0.40535105,  53.14967409,  63.17595788,  17.03821161,\n",
       "       -54.10921581,  60.29554728,  61.88372952,  58.24563555,\n",
       "        -0.76037812,  60.24406633,  73.93091858,   9.67694951,\n",
       "        49.37361185,   9.87424119])"
      ]
     },
     "execution_count": 9,
     "metadata": {},
     "output_type": "execute_result"
    }
   ],
   "source": [
    "np.random.uniform(-90,90,50)"
   ]
  },
  {
   "cell_type": "code",
   "execution_count": 10,
   "id": "ab9faa8d",
   "metadata": {},
   "outputs": [],
   "source": [
    "# Import timeit.\n",
    "import timeit"
   ]
  },
  {
   "cell_type": "code",
   "execution_count": 11,
   "id": "9fd3c26b",
   "metadata": {},
   "outputs": [
    {
     "name": "stdout",
     "output_type": "stream",
     "text": [
      "21.7 µs ± 533 ns per loop (mean ± std. dev. of 7 runs, 10000 loops each)\n"
     ]
    }
   ],
   "source": [
    "%timeit np.random.uniform(-90.000, 90.000, size=1500)"
   ]
  },
  {
   "cell_type": "code",
   "execution_count": 14,
   "id": "b181b65e",
   "metadata": {},
   "outputs": [
    {
     "name": "stdout",
     "output_type": "stream",
     "text": [
      "2.79 ms ± 132 µs per loop (mean ± std. dev. of 7 runs, 100 loops each)\n"
     ]
    }
   ],
   "source": [
    "def latitudes(size):\n",
    "    latitudes = []\n",
    "    x = 0\n",
    "    while x < (size):\n",
    "        lat = random.randint(-90,90) + random.random()\n",
    "        latitudes.append(lat)\n",
    "        x += 1\n",
    "    return latitudes\n",
    "\n",
    "# Call the function with 1500\n",
    "\n",
    "%timeit latitudes(1500)"
   ]
  },
  {
   "cell_type": "code",
   "execution_count": 17,
   "id": "9701bd1d",
   "metadata": {},
   "outputs": [
    {
     "name": "stdout",
     "output_type": "stream",
     "text": [
      "2.63 ms ± 68.2 µs per loop (mean ± std. dev. of 7 runs, 100 loops each)\n"
     ]
    }
   ],
   "source": [
    "def ref_latitudes(size):\n",
    "    latitudes = []\n",
    "    for x in range(size):\n",
    "        lat = random.randint(-90,90) + random.random()\n",
    "        latitudes.append(lat)\n",
    "    return latitudes\n",
    "\n",
    "%timeit ref_latitudes(1500)\n",
    "        \n",
    "    "
   ]
  },
  {
   "cell_type": "code",
   "execution_count": null,
   "id": "f8c6b20e",
   "metadata": {},
   "outputs": [],
   "source": []
  }
 ],
 "metadata": {
  "kernelspec": {
   "display_name": "PythonData",
   "language": "python",
   "name": "pythondata"
  },
  "language_info": {
   "codemirror_mode": {
    "name": "ipython",
    "version": 3
   },
   "file_extension": ".py",
   "mimetype": "text/x-python",
   "name": "python",
   "nbconvert_exporter": "python",
   "pygments_lexer": "ipython3",
   "version": "3.7.11"
  }
 },
 "nbformat": 4,
 "nbformat_minor": 5
}
